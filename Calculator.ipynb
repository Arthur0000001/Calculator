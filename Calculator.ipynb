{
 "cells": [
  {
   "cell_type": "code",
   "execution_count": 2,
   "id": "73df6c89",
   "metadata": {},
   "outputs": [],
   "source": [
    "def add(a,b):\n",
    "    res=a+b\n",
    "    return res\n",
    "\n",
    "def sub(a,b):\n",
    "    res=a-b\n",
    "    return res\n",
    "\n",
    "def mul(a,b):\n",
    "    res=a*b\n",
    "    return res\n",
    "\n",
    "def div(a,b):\n",
    "    res=a/b\n",
    "    return res"
   ]
  },
  {
   "cell_type": "code",
   "execution_count": 4,
   "id": "3b320b29",
   "metadata": {},
   "outputs": [
    {
     "name": "stdout",
     "output_type": "stream",
     "text": [
      "1. Addition\n",
      "2. Subtraction\n",
      "3. Multiplication\n",
      "4. Division\n",
      "Enter a choice corresponding to operation you wish to perform:-3\n",
      "Enter first value:-12\n",
      "Enter Second value:-3\n",
      "Product of given values is:- 36.0\n"
     ]
    }
   ],
   "source": [
    "print(\"\"\"1. Addition\n",
    "2. Subtraction\n",
    "3. Multiplication\n",
    "4. Division\"\"\")\n",
    "n=int(input(\"Enter a choice corresponding to operation you wish to perform:-\"))\n",
    "if n<5:\n",
    "    Val1=float(input(\"Enter first value:-\"))\n",
    "    Val2=float(input(\"Enter Second value:-\"))\n",
    "    if n==1:\n",
    "        d=add(Val1,Val2)\n",
    "        print(\"Sum of given values is:-\",d)\n",
    "    elif n==2:\n",
    "        d=sub(Val1,Val2)\n",
    "        print(\"Difference of given values is:-\",d)\n",
    "    elif n==3:\n",
    "        d=mul(Val1,Val2)\n",
    "        print(\"Product of given values is:-\",d)\n",
    "    elif n==4:\n",
    "        if Val2!=0:\n",
    "            d=div(Val1,Val2)\n",
    "            print(\"Division of given numbers is:-\",d)\n",
    "        else:\n",
    "            print(\"Cannot be determined\")\n",
    "else:\n",
    "    print(\"No operation can be performed since you have chosen a Wrong choice\")"
   ]
  }
 ],
 "metadata": {
  "kernelspec": {
   "display_name": "Python 3 (ipykernel)",
   "language": "python",
   "name": "python3"
  },
  "language_info": {
   "codemirror_mode": {
    "name": "ipython",
    "version": 3
   },
   "file_extension": ".py",
   "mimetype": "text/x-python",
   "name": "python",
   "nbconvert_exporter": "python",
   "pygments_lexer": "ipython3",
   "version": "3.9.12"
  }
 },
 "nbformat": 4,
 "nbformat_minor": 5
}
